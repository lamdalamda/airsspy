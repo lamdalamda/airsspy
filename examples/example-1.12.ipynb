{
 "cells": [
  {
   "cell_type": "markdown",
   "metadata": {},
   "source": [
    "# Example 1.12\n",
    "Pack atoms into a nanotube.  \n",
    "Demostrate assigning per atom tags in `ase`.\n",
    "The nanotube structure is built from the routine provided by `ase.build`."
   ]
  },
  {
   "cell_type": "code",
   "execution_count": 1,
   "metadata": {},
   "outputs": [],
   "source": [
    "from airss_ase import SeedAtoms, Buildcell\n",
    "from ipypb import ipb as tqdm\n",
    "\n",
    "# Import ase assets\n",
    "from ase import Atoms"
   ]
  },
  {
   "cell_type": "code",
   "execution_count": 23,
   "metadata": {},
   "outputs": [],
   "source": [
    "from ase.build import nanotube\n",
    "\n",
    "# Use ase to create a tube\n",
    "tube = nanotube(8, 8)\n",
    "# Manually set the cell in x,y direction\n",
    "tube.cell[0, 0] = 20\n",
    "tube.cell[1, 1] = 20\n",
    "tube.extend(Atoms('B'))\n",
    "seed = SeedAtoms(tube)"
   ]
  },
  {
   "cell_type": "markdown",
   "metadata": {},
   "source": [
    "Define the global `buildcell` tags "
   ]
  },
  {
   "cell_type": "code",
   "execution_count": 24,
   "metadata": {},
   "outputs": [],
   "source": [
    "seed.gentags.supercell = '1 1 3'\n",
    "seed.gentags.slack = 0.25\n",
    "seed.gentags.minsep = [1.0, {'A-A':1.3, 'B-B':2, 'A-B':2}]\n",
    "seed.gentags.fix = True"
   ]
  },
  {
   "cell_type": "markdown",
   "metadata": {},
   "source": [
    "Define the per atom tags"
   ]
  },
  {
   "cell_type": "code",
   "execution_count": 32,
   "metadata": {},
   "outputs": [],
   "source": [
    "# The per atoms tags supports tab completion\n",
    "for atom in seed:\n",
    "    if atom.symbol == 'C':\n",
    "        atom.fix = True\n",
    "        atom.posamp = 0\n",
    "    else:\n",
    "        atom.num = 24\n",
    "        atom.zamp = -1\n",
    "        atom.xamp = 5\n",
    "        atom.yamp = 5\n",
    "        atom.adatom = True"
   ]
  },
  {
   "cell_type": "code",
   "execution_count": 26,
   "metadata": {},
   "outputs": [
    {
     "name": "stdout",
     "output_type": "stream",
     "text": [
      "%BLOCK lattice_cart\n",
      "20.0000000000  0.0000000000  0.0000000000\n",
      "0.0000000000  20.0000000000  0.0000000000\n",
      "0.0000000000  0.0000000000  2.4595121467\n",
      "#FIX\n",
      "%ENDBLOCK lattice_cart\n",
      "%BLOCK positions_abs\n",
      "C  5.4240004606 0.0000000000 0.0000000000 # C0 % FIX POSAMP=0\n",
      "C  5.2391821267 1.4038346198 0.0000000000 # C1 % FIX POSAMP=0\n",
      "C  5.0111230099 2.0756751134 1.2297560734 # C2 % FIX POSAMP=0\n",
      "C  4.3031488831 3.3019222713 1.2297560734 # C3 % FIX POSAMP=0\n",
      "C  3.8353475068 3.8353475068 -0.0000000000 # C4 % FIX POSAMP=0\n",
      "C  2.7120002303 4.6973221890 2.4595121467 # C5 % FIX POSAMP=0\n",
      "C  2.0756751134 5.0111230099 1.2297560734 # C6 % FIX POSAMP=0\n",
      "C  0.7079741267 5.3775973847 1.2297560734 # C7 % FIX POSAMP=0\n",
      "C  0.0000000000 5.4240004606 -0.0000000000 # C8 % FIX POSAMP=0\n",
      "C  -1.4038346198 5.2391821267 2.4595121467 # C9 % FIX POSAMP=0\n",
      "C  -2.0756751134 5.0111230099 1.2297560734 # C10 % FIX POSAMP=0\n",
      "C  -3.3019222713 4.3031488831 1.2297560734 # C11 % FIX POSAMP=0\n",
      "C  -3.8353475068 3.8353475068 -0.0000000000 # C12 % FIX POSAMP=0\n",
      "C  -4.6973221890 2.7120002303 2.4595121467 # C13 % FIX POSAMP=0\n",
      "C  -5.0111230099 2.0756751134 1.2297560734 # C14 % FIX POSAMP=0\n",
      "C  -5.3775973847 0.7079741267 1.2297560734 # C15 % FIX POSAMP=0\n",
      "C  -5.4240004606 0.0000000000 -0.0000000000 # C16 % FIX POSAMP=0\n",
      "C  -5.2391821267 -1.4038346198 2.4595121467 # C17 % FIX POSAMP=0\n",
      "C  -5.0111230099 -2.0756751134 1.2297560734 # C18 % FIX POSAMP=0\n",
      "C  -4.3031488831 -3.3019222713 1.2297560734 # C19 % FIX POSAMP=0\n",
      "C  -3.8353475068 -3.8353475068 -0.0000000000 # C20 % FIX POSAMP=0\n",
      "C  -2.7120002303 -4.6973221890 2.4595121467 # C21 % FIX POSAMP=0\n",
      "C  -2.0756751134 -5.0111230099 1.2297560734 # C22 % FIX POSAMP=0\n",
      "C  -0.7079741267 -5.3775973847 1.2297560734 # C23 % FIX POSAMP=0\n",
      "C  -0.0000000000 -5.4240004606 -0.0000000000 # C24 % FIX POSAMP=0\n",
      "C  1.4038346198 -5.2391821267 2.4595121467 # C25 % FIX POSAMP=0\n",
      "C  2.0756751134 -5.0111230099 1.2297560734 # C26 % FIX POSAMP=0\n",
      "C  3.3019222713 -4.3031488831 1.2297560734 # C27 % FIX POSAMP=0\n",
      "C  3.8353475068 -3.8353475068 -0.0000000000 # C28 % FIX POSAMP=0\n",
      "C  4.6973221890 -2.7120002303 2.4595121467 # C29 % FIX POSAMP=0\n",
      "C  5.0111230099 -2.0756751134 1.2297560734 # C30 % FIX POSAMP=0\n",
      "C  5.3775973847 -0.7079741267 1.2297560734 # C31 % FIX POSAMP=0\n",
      "B  0.0000000000 0.0000000000 0.0000000000 # B32 % NUM=24 ZAMP=-1 XAMP=5 YAMP=5 ADATOM\n",
      "%ENDBLOCK positions_abs\n",
      "#SUPERCELL=1 1 3\n",
      "#SLACK=0.25\n",
      "#MINSEP=1.0 A-A=1.3 B-B=2 A-B=2\n",
      "\n"
     ]
    }
   ],
   "source": [
    "print('\\n'.join(seed.get_cell_inp_lines()))"
   ]
  },
  {
   "cell_type": "code",
   "execution_count": 15,
   "metadata": {},
   "outputs": [
    {
     "data": {
      "text/plain": [
       "Atoms(symbols='C96B24', pbc=False, cell=[20.0, 20.0, 7.37854])"
      ]
     },
     "execution_count": 15,
     "metadata": {},
     "output_type": "execute_result"
    }
   ],
   "source": [
    "bc = Buildcell(seed)\n",
    "bc.generate()"
   ]
  },
  {
   "cell_type": "markdown",
   "metadata": {},
   "source": [
    "The random structure can then be relaxed using the code of choice."
   ]
  }
 ],
 "metadata": {
  "kernelspec": {
   "display_name": "Python [conda env:py3works]",
   "language": "python",
   "name": "conda-env-py3works-py"
  },
  "language_info": {
   "codemirror_mode": {
    "name": "ipython",
    "version": 3
   },
   "file_extension": ".py",
   "mimetype": "text/x-python",
   "name": "python",
   "nbconvert_exporter": "python",
   "pygments_lexer": "ipython3",
   "version": "3.6.8"
  }
 },
 "nbformat": 4,
 "nbformat_minor": 2
}
