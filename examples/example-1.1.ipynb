{
 "cells": [
  {
   "cell_type": "markdown",
   "metadata": {},
   "source": [
    "# Example 1.1\n",
    "This example follows the `examples/1.1`  \n",
    "Search for a simple lj crystal with 8 numbers percell"
   ]
  },
  {
   "cell_type": "code",
   "execution_count": 112,
   "metadata": {},
   "outputs": [],
   "source": [
    "from airss_ase import SeedAtoms, Buildcell\n",
    "from ipypb import ipb as tqdm\n",
    "\n",
    "# Import ase assets\n",
    "from ase.optimize import BFGSLineSearch, sciopt, FIRE, BFGS, precon\n",
    "from ase.calculators.lj import LennardJones\n",
    "from ase.constraints import UnitCellFilter, ExpCellFilter"
   ]
  },
  {
   "cell_type": "code",
   "execution_count": 34,
   "metadata": {},
   "outputs": [],
   "source": [
    "# Define the search seed\n",
    "\n",
    "seed = SeedAtoms('Al', cell=[2, 2, 2], pbc=True)\n",
    "seed.gentags.minsep = 1.5\n",
    "# Define per-atom tags, here it is simply request 8 Al atoms\n",
    "al = seed[0]\n",
    "al.num = 8"
   ]
  },
  {
   "cell_type": "code",
   "execution_count": 36,
   "metadata": {},
   "outputs": [],
   "source": [
    "# LJ potential calculator\n",
    "lj = LennardJones(signma=2, epsilon=1, beta=1, rc=2.5)"
   ]
  },
  {
   "cell_type": "code",
   "execution_count": 140,
   "metadata": {},
   "outputs": [
    {
     "name": "stdout",
     "output_type": "stream",
     "text": [
      "%BLOCK lattice_cart\n",
      "2.0000000000  0.0000000000  0.0000000000\n",
      "0.0000000000  2.0000000000  0.0000000000\n",
      "0.0000000000  0.0000000000  2.0000000000\n",
      "%ENDBLOCK lattice_cart\n",
      "%BLOCK positions_abs\n",
      "Al  0.0000000000 0.0000000000 0.0000000000 # Al0 % NUM=8\n",
      "%ENDBLOCK positions_abs\n",
      "#MINSEP=1.5\n",
      "\n"
     ]
    }
   ],
   "source": [
    "# The seed in text form\n",
    "print('\\n'.join(seed.get_cell_inp_lines()))"
   ]
  },
  {
   "cell_type": "markdown",
   "metadata": {},
   "source": [
    "## Generate the random structure\n",
    "The random structrue can be built by calling `build_random_atoms` method.\n",
    "An `ase.Atoms` object is returned."
   ]
  },
  {
   "cell_type": "code",
   "execution_count": 126,
   "metadata": {},
   "outputs": [],
   "source": [
    "rand_atoms = seed.build_random_atoms()"
   ]
  },
  {
   "cell_type": "markdown",
   "metadata": {},
   "source": [
    "Inpsect the cell"
   ]
  },
  {
   "cell_type": "code",
   "execution_count": 127,
   "metadata": {},
   "outputs": [
    {
     "data": {
      "text/plain": [
       "array([[4.25031   , 0.        , 0.        ],\n",
       "       [1.81680255, 4.00673793, 0.        ],\n",
       "       [1.30959483, 1.82009312, 3.89759852]])"
      ]
     },
     "execution_count": 127,
     "metadata": {},
     "output_type": "execute_result"
    }
   ],
   "source": [
    "rand_atoms.get_cell()"
   ]
  },
  {
   "cell_type": "markdown",
   "metadata": {},
   "source": [
    "Inspect the cell volume\n",
    "The initial cell volume is $2\\times2\\times2=8$ and we requested 8 atoms.\n",
    "So the target cell volume is 64 but `buildcell` will scale to a random value\n",
    "within 50%."
   ]
  },
  {
   "cell_type": "code",
   "execution_count": 128,
   "metadata": {},
   "outputs": [
    {
     "data": {
      "text/plain": [
       "66.37562845079496"
      ]
     },
     "execution_count": 128,
     "metadata": {},
     "output_type": "execute_result"
    }
   ],
   "source": [
    "rand_atoms.get_volume()"
   ]
  },
  {
   "cell_type": "code",
   "execution_count": 129,
   "metadata": {},
   "outputs": [
    {
     "data": {
      "text/plain": [
       "array([[2.13198482, 3.13673947, 3.85723496],\n",
       "       [1.67108971, 4.02214929, 2.73349501],\n",
       "       [3.95796943, 3.83131731, 3.38519762],\n",
       "       [3.50212198, 3.14885171, 5.5703684 ],\n",
       "       [1.83124691, 2.96549873, 5.37154553],\n",
       "       [0.81827181, 0.98508932, 1.95748114],\n",
       "       [0.73402131, 2.48557134, 4.37771662],\n",
       "       [3.52906852, 4.59171708, 6.14269305]])"
      ]
     },
     "execution_count": 129,
     "metadata": {},
     "output_type": "execute_result"
    }
   ],
   "source": [
    "rand_atoms.get_positions()"
   ]
  },
  {
   "cell_type": "markdown",
   "metadata": {},
   "source": [
    "## Do the search\n",
    "The search can be carried out directly using the calculator and optimizers in `ase` "
   ]
  },
  {
   "cell_type": "code",
   "execution_count": 131,
   "metadata": {},
   "outputs": [],
   "source": [
    "def gen_and_relax(seed, calc, opti):\n",
    "    \"\"\"\n",
    "    Generate and relax the cell\n",
    "    \"\"\"\n",
    "    rand_atoms = seed.build_random_atoms()\n",
    "    rand_atoms.set_pbc(True)  # Set the PBC as we are search from crystal\n",
    "    rand_atoms.set_calculator(calc)  # Attached hte calculator\n",
    "    # Apply the UnitCellFilter as we are also optimizing the cell\n",
    "    opt = opti(UnitCellFilter(rand_atoms), logfile=None) \n",
    "    opt.run(fmax=0.05)\n",
    "    return rand_atoms"
   ]
  },
  {
   "cell_type": "code",
   "execution_count": 132,
   "metadata": {},
   "outputs": [
    {
     "data": {
      "text/html": [
       "<div><span class=\"Text-label\" style=\"display:inline-block; overflow:hidden; white-space:nowrap; text-overflow:ellipsis; min-width:0; max-width:15ex; vertical-align:middle; text-align:right\"></span>\n",
       "<progress style=\"width:60ex\" max=\"20\" value=\"20\" class=\"Progress-main\"/></progress>\n",
       "<span class=\"Progress-label\"><strong>100%</strong></span>\n",
       "<span class=\"Iteration-label\">20/20</span>\n",
       "<span class=\"Time-label\">[00:38<00:02, 1.88s/it]</span></div>"
      ],
      "text/plain": [
       "\u001b[A\u001b[2K\r",
       " [████████████████████████████████████████████████████████████] 20/20 [00:38<00:02, 1.88s/it]"
      ]
     },
     "metadata": {},
     "output_type": "display_data"
    }
   ],
   "source": [
    "res = []\n",
    "for i in tqdm(range(20)):\n",
    "    # A range of the possible optimization algorithm are possible\n",
    "    relaxed = gen_and_relax(atoms, lj, BFGSLineSearch)\n",
    "    res.append(relaxed)"
   ]
  },
  {
   "cell_type": "code",
   "execution_count": 134,
   "metadata": {},
   "outputs": [],
   "source": [
    "## Get the symmetry of the relaxed structures"
   ]
  },
  {
   "cell_type": "code",
   "execution_count": 133,
   "metadata": {},
   "outputs": [
    {
     "data": {
      "text/plain": [
       "['Fm-3m (225)',\n",
       " 'Cm (8)',\n",
       " 'Fm-3m (225)',\n",
       " 'C2/m (12)',\n",
       " 'Fm-3m (225)',\n",
       " 'P6_3/mmc (194)',\n",
       " 'Pmma (51)',\n",
       " 'P6_3/mmc (194)',\n",
       " 'P6_3/mmc (194)',\n",
       " 'P4/nmm (129)',\n",
       " 'Fm-3m (225)',\n",
       " 'I4/mmm (139)',\n",
       " 'Fm-3m (225)',\n",
       " 'Fm-3m (225)',\n",
       " 'Fm-3m (225)',\n",
       " 'P6_3/mmc (194)',\n",
       " 'P6_3/mmc (194)',\n",
       " 'Cm (8)',\n",
       " 'Fm-3m (225)',\n",
       " 'C2/m (12)']"
      ]
     },
     "execution_count": 133,
     "metadata": {},
     "output_type": "execute_result"
    }
   ],
   "source": [
    "from spglib import get_spacegroup\n",
    "spg = [get_spacegroup(i, 0.5) for i in res]\n",
    "spg"
   ]
  },
  {
   "cell_type": "markdown",
   "metadata": {},
   "source": [
    "## Alternatively, use the native airss script to run the search"
   ]
  },
  {
   "cell_type": "code",
   "execution_count": 135,
   "metadata": {},
   "outputs": [
    {
     "name": "stdout",
     "output_type": "stream",
     "text": [
      "mkdir: cannot create directory ‘work’: File exists\n"
     ]
    }
   ],
   "source": [
    "!mkdir work"
   ]
  },
  {
   "cell_type": "code",
   "execution_count": 136,
   "metadata": {},
   "outputs": [
    {
     "name": "stdout",
     "output_type": "stream",
     "text": [
      "10.5 s ± 0 ns per loop (mean ± std. dev. of 1 run, 1 loop each)\n"
     ]
    }
   ],
   "source": [
    "%%timeit -n 1 -r 1\n",
    "seed.write_seed('work/Al.cell')\n",
    "!echo \"1 12 6 2.5\\nAl\\n# Epsilon\\n1\\n# Sigma\\n2\\n# Beta\\n1\" >> work/Al.pp\n",
    "!cd work && airss.pl -seed Al -max 20 -pp3 && cd ../"
   ]
  },
  {
   "cell_type": "markdown",
   "metadata": {},
   "source": [
    "Note that the `pp3` program for relxation will run significantly faster than doing so in python"
   ]
  },
  {
   "cell_type": "code",
   "execution_count": 137,
   "metadata": {},
   "outputs": [
    {
     "name": "stdout",
     "output_type": "stream",
     "text": [
      "Al-8858-7126-18          0.00     0.945     -13.318   8 Al           P63/mmc    1\n",
      "Al-8858-7126-1           0.00     0.945       0.000   8 Al           P63/mmc    1\n",
      "Al-8858-7126-10          0.00     0.945       0.010   8 Al           Fm-3m      1\n",
      "Al-12455-1866-20        -0.00     0.945       0.010   8 Al           Fm-3m      1\n",
      "Al-12455-1866-8         -0.00     1.059       1.637   8 Al           P-1        1\n",
      "Al-12455-1866-15        -0.00     1.683       2.172   8 Al           C2/m       1\n",
      "Al-5573-1513-16         -0.00     1.713       2.172   8 Al           C2/m       1\n",
      "Al-5573-1513-3           0.00     1.838       2.397   8 Al           Cmcm       1\n",
      "Al-12455-1866-19         0.00     1.849       2.397   8 Al           P21/m      1\n",
      "Al-8858-7126-20          0.00     1.897       3.248   8 Al           Cm         1\n",
      "Al-8858-7126-2          -0.00     2.009       3.597   8 Al           Cm         1\n",
      "Al-8858-7126-5           0.00     2.732       3.646   8 Al           Cm         1\n",
      "Al-5573-1513-10         -0.00     2.371       3.788   8 Al           P1         1\n",
      "Al-5573-1513-13         -0.00     2.216       3.850   8 Al           P-1        1\n",
      "Al-8858-7126-14         -0.00     2.150       3.850   8 Al           C2/m       1\n",
      "Al-12455-1866-9          0.00     2.832       3.850   8 Al           P-1        1\n",
      "Al-12455-1866-18        -0.00     1.931       3.901   8 Al           P-1        1\n",
      "Al-5573-1513-17         -0.00     2.090       3.901   8 Al           P-1        1\n",
      "Al-5573-1513-11          0.00     2.237       3.903   8 Al           C2/m       1\n",
      "Al-5573-1513-15         -0.00     2.676       3.903   8 Al           P-3m1      1\n",
      "Al-12455-1866-14        -0.00     2.355       3.903   8 Al           R-3m       1\n",
      "Al-8858-7126-13          0.00     2.216       3.903   8 Al           C2/m       1\n",
      "Al-5573-1513-19         -0.00     1.942       3.903   8 Al           P-1        1\n",
      "Al-5573-1513-1          -0.00     2.261       3.903   8 Al           C2/m       1\n",
      "Al-8858-7126-19         -0.00     2.849       3.903   8 Al           C2/m       1\n",
      "Al-12455-1866-10         0.00     2.514       4.074   8 Al           P1         1\n",
      "Al-5573-1513-9           0.00     2.299       4.074   8 Al           P1         1\n",
      "Al-12455-1866-17        -0.00     2.486       4.074   8 Al           Cm         1\n",
      "Al-12455-1866-12         0.00     2.863       4.074   8 Al           P1         1\n",
      "Al-12455-1866-7         -0.00     2.367       4.098   8 Al           P-1        1\n",
      "Al-12455-1866-16         0.00     2.022       4.170   8 Al           Cm         1\n",
      "Al-8858-7126-4           0.00     2.179       4.256   8 Al           P-1        1\n",
      "Al-12455-1866-6          0.00     2.058       4.256   8 Al           P-1        1\n",
      "Al-8858-7126-3          -0.00     2.949       4.256   8 Al           P-1        1\n",
      "Al-8858-7126-17          0.00     2.424       4.286   8 Al           P-1        1\n",
      "Al-5573-1513-14         -0.00     2.016       4.332   8 Al           P-1        1\n",
      "Al-5573-1513-18         -0.00     2.124       4.332   8 Al           P-1        1\n",
      "Al-8858-7126-8          -0.00     2.053       4.332   8 Al           C2/m       1\n",
      "Al-8858-7126-15         -0.00     2.101       4.332   8 Al           C2/m       1\n",
      "Al-5573-1513-7          -0.00     2.409       4.332   8 Al           P-1        1\n",
      "Al-8858-7126-16         -0.00     2.635       4.332   8 Al           C2/m       1\n",
      "Al-12455-1866-5         -0.00     3.174       4.900   8 Al           P1         1\n",
      "Al-5573-1513-8           0.00     3.858       4.983   8 Al           Pm         1\n",
      "Al-8858-7126-7          -0.00     3.231       4.983   8 Al           P1         1\n",
      "Al-8858-7126-12          0.00     3.698       5.176   8 Al           P1         1\n",
      "Al-5573-1513-20         -0.00     3.273       5.191   8 Al           Cm         1\n",
      "Al-5573-1513-4          -0.00     3.920       5.537   8 Al           Pm         1\n",
      "Al-12455-1866-1         -0.00     3.418       5.732   8 Al           P1         1\n",
      "Al-8858-7126-9           0.00     4.917       6.715   8 Al           P-1        1\n",
      "Al-5573-1513-12         -0.00     4.681       6.802   8 Al           P-1        1\n",
      "Al-5573-1513-5          -0.00     3.914       6.802   8 Al           P-1        1\n",
      "Al-12455-1866-11         0.00     4.857       6.802   8 Al           P-1        1\n",
      "Al-5573-1513-6          -0.00     4.310       6.802   8 Al           P-1        1\n",
      "Al-12455-1866-3         -0.00     5.441       6.861   8 Al           P1         1\n",
      "Al-8858-7126-11         -0.00     5.246       7.113   8 Al           P1         1\n",
      "Al-5573-1513-2          -0.00     4.636       7.241   8 Al           P1         1\n",
      "Al-12455-1866-13        -0.00     5.579       7.241   8 Al           P1         1\n",
      "Al-12455-1866-2         -0.00     4.539       7.575   8 Al           P1         1\n",
      "Al-12455-1866-4          0.00     5.003       7.575   8 Al           C2         1\n",
      "Al-8858-7126-6           0.00     6.492       9.175   8 Al           P1         1\n",
      "/home/bonan/appdir/airss-ase/examples\n"
     ]
    }
   ],
   "source": [
    "!cd work/ &&  ca -r -u 0.01 && cd -"
   ]
  }
 ],
 "metadata": {
  "kernelspec": {
   "display_name": "Python [conda env:py3works]",
   "language": "python",
   "name": "conda-env-py3works-py"
  },
  "language_info": {
   "codemirror_mode": {
    "name": "ipython",
    "version": 3
   },
   "file_extension": ".py",
   "mimetype": "text/x-python",
   "name": "python",
   "nbconvert_exporter": "python",
   "pygments_lexer": "ipython3",
   "version": "3.6.8"
  }
 },
 "nbformat": 4,
 "nbformat_minor": 2
}
