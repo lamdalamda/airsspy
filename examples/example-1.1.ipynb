{
 "cells": [
  {
   "cell_type": "markdown",
   "metadata": {},
   "source": [
    "# Example 1.1\n",
    "This example follows the `examples/1.1`  \n",
    "Search for a simple lj crystal with 8 numbers percell"
   ]
  },
  {
   "cell_type": "code",
   "execution_count": 1,
   "metadata": {},
   "outputs": [],
   "source": [
    "from airsspy import SeedAtoms, Buildcell\n",
    "from ipypb import ipb as tqdm\n",
    "\n",
    "# Import ase assets\n",
    "from ase.optimize import BFGSLineSearch, sciopt, FIRE, BFGS, precon\n",
    "from ase.calculators.lj import LennardJones\n",
    "from ase.constraints import UnitCellFilter, ExpCellFilter"
   ]
  },
  {
   "cell_type": "code",
   "execution_count": 2,
   "metadata": {},
   "outputs": [],
   "source": [
    "# Define the search seed\n",
    "\n",
    "seed = SeedAtoms('Al', cell=[2, 2, 2], pbc=True)\n",
    "seed.gentags.minsep = 1.5\n",
    "# Define per-atom tags, here it is simply request 8 Al atoms\n",
    "al = seed[0]\n",
    "al.num = 8"
   ]
  },
  {
   "cell_type": "code",
   "execution_count": 3,
   "metadata": {},
   "outputs": [],
   "source": [
    "# LJ potential calculator\n",
    "lj = LennardJones(signma=2, epsilon=1, beta=1, rc=2.5)"
   ]
  },
  {
   "cell_type": "code",
   "execution_count": 4,
   "metadata": {},
   "outputs": [
    {
     "name": "stdout",
     "output_type": "stream",
     "text": [
      "%BLOCK lattice_cart\n",
      "2.0000000000  0.0000000000  0.0000000000\n",
      "0.0000000000  2.0000000000  0.0000000000\n",
      "0.0000000000  0.0000000000  2.0000000000\n",
      "%ENDBLOCK lattice_cart\n",
      "%BLOCK positions_abs\n",
      "Al  0.0000000000 0.0000000000 0.0000000000 # Al0 % NUM=8\n",
      "%ENDBLOCK positions_abs\n",
      "#MINSEP=1.5\n",
      "\n"
     ]
    }
   ],
   "source": [
    "# The seed in text form\n",
    "print('\\n'.join(seed.get_cell_inp_lines()))"
   ]
  },
  {
   "cell_type": "markdown",
   "metadata": {},
   "source": [
    "## Generate the random structure\n",
    "The random structrue can be built by calling `build_random_atoms` method.\n",
    "An `ase.Atoms` object is returned."
   ]
  },
  {
   "cell_type": "code",
   "execution_count": 5,
   "metadata": {},
   "outputs": [],
   "source": [
    "rand_atoms = seed.build_random_atoms()"
   ]
  },
  {
   "cell_type": "markdown",
   "metadata": {},
   "source": [
    "Inpsect the cell"
   ]
  },
  {
   "cell_type": "code",
   "execution_count": 6,
   "metadata": {},
   "outputs": [
    {
     "data": {
      "text/plain": [
       "array([[2.35951   , 0.        , 0.        ],\n",
       "       [0.48072515, 4.08875698, 0.        ],\n",
       "       [0.97720172, 0.51659301, 6.32963116]])"
      ]
     },
     "execution_count": 6,
     "metadata": {},
     "output_type": "execute_result"
    }
   ],
   "source": [
    "rand_atoms.get_cell()"
   ]
  },
  {
   "cell_type": "markdown",
   "metadata": {},
   "source": [
    "Inspect the cell volume\n",
    "The initial cell volume is $2\\times2\\times2=8$ and we requested 8 atoms.\n",
    "So the target cell volume is 64 but `buildcell` will scale to a random value\n",
    "within 50%."
   ]
  },
  {
   "cell_type": "code",
   "execution_count": 7,
   "metadata": {},
   "outputs": [
    {
     "data": {
      "text/plain": [
       "61.064882281705266"
      ]
     },
     "execution_count": 7,
     "metadata": {},
     "output_type": "execute_result"
    }
   ],
   "source": [
    "rand_atoms.get_volume()"
   ]
  },
  {
   "cell_type": "code",
   "execution_count": 8,
   "metadata": {},
   "outputs": [
    {
     "data": {
      "text/plain": [
       "array([[0.37593082, 1.38684595, 2.64249205],\n",
       "       [0.10799053, 3.54577896, 1.73390679],\n",
       "       [2.27238155, 3.40699766, 5.63543925],\n",
       "       [1.45917171, 3.17753425, 1.57839886],\n",
       "       [1.07000499, 2.14481009, 5.94208792],\n",
       "       [1.67583419, 1.86035924, 2.2477568 ],\n",
       "       [0.86334848, 3.62557623, 5.97221832],\n",
       "       [0.63123853, 1.74727672, 0.86564539]])"
      ]
     },
     "execution_count": 8,
     "metadata": {},
     "output_type": "execute_result"
    }
   ],
   "source": [
    "rand_atoms.get_positions()"
   ]
  },
  {
   "cell_type": "markdown",
   "metadata": {},
   "source": [
    "## Do the search\n",
    "The search can be carried out directly using the calculator and optimizers in `ase` "
   ]
  },
  {
   "cell_type": "code",
   "execution_count": 9,
   "metadata": {},
   "outputs": [],
   "source": [
    "def gen_and_relax(seed, calc, opti):\n",
    "    \"\"\"\n",
    "    Generate and relax the cell\n",
    "    \"\"\"\n",
    "    rand_atoms = seed.build_random_atoms()\n",
    "    rand_atoms.set_pbc(True)  # Set the PBC as we are search from crystal\n",
    "    rand_atoms.set_calculator(calc)  # Attached hte calculator\n",
    "    # Apply the UnitCellFilter as we are also optimizing the cell\n",
    "    opt = opti(UnitCellFilter(rand_atoms), logfile=None) \n",
    "    opt.run(fmax=0.05)\n",
    "    return rand_atoms"
   ]
  },
  {
   "cell_type": "code",
   "execution_count": 11,
   "metadata": {},
   "outputs": [
    {
     "data": {
      "text/html": [
       "<div><span class=\"Text-label\" style=\"display:inline-block; overflow:hidden; white-space:nowrap; text-overflow:ellipsis; min-width:0; max-width:15ex; vertical-align:middle; text-align:right\"></span>\n",
       "<progress style=\"width:60ex\" max=\"20\" value=\"20\" class=\"Progress-main\"/></progress>\n",
       "<span class=\"Progress-label\"><strong>100%</strong></span>\n",
       "<span class=\"Iteration-label\">20/20</span>\n",
       "<span class=\"Time-label\">[00:38<00:01, 1.90s/it]</span></div>"
      ],
      "text/plain": [
       "\u001b[A\u001b[2K\r",
       " [████████████████████████████████████████████████████████████] 20/20 [00:38<00:01, 1.90s/it]"
      ]
     },
     "metadata": {},
     "output_type": "display_data"
    }
   ],
   "source": [
    "res = []\n",
    "for i in tqdm(range(20)):\n",
    "    # A range of the possible optimization algorithm are possible\n",
    "    relaxed = gen_and_relax(seed, lj, BFGSLineSearch)\n",
    "    res.append(relaxed)"
   ]
  },
  {
   "cell_type": "markdown",
   "metadata": {},
   "source": [
    "## Get the symmetry of the relaxed structures"
   ]
  },
  {
   "cell_type": "code",
   "execution_count": 12,
   "metadata": {},
   "outputs": [
    {
     "data": {
      "text/plain": [
       "['Fm-3m (225)',\n",
       " 'Fm-3m (225)',\n",
       " 'Fm-3m (225)',\n",
       " 'P2_1/m (11)',\n",
       " 'Fm-3m (225)',\n",
       " 'Cm (8)',\n",
       " 'P6_3/mmc (194)',\n",
       " 'Fm-3m (225)',\n",
       " 'P6_3/mmc (194)',\n",
       " 'C2/m (12)',\n",
       " 'Fm-3m (225)',\n",
       " 'Fm-3m (225)',\n",
       " 'Fm-3m (225)',\n",
       " 'Imma (74)',\n",
       " 'Cm (8)',\n",
       " 'C2/m (12)',\n",
       " 'Fm-3m (225)',\n",
       " 'P6_3/mmc (194)',\n",
       " 'P-1 (2)',\n",
       " 'P6_3/mmc (194)']"
      ]
     },
     "execution_count": 12,
     "metadata": {},
     "output_type": "execute_result"
    }
   ],
   "source": [
    "from spglib import get_spacegroup\n",
    "spg = [get_spacegroup(i, 0.5) for i in res]\n",
    "spg"
   ]
  },
  {
   "cell_type": "markdown",
   "metadata": {},
   "source": [
    "## Alternatively, use the native airss script to run the search"
   ]
  },
  {
   "cell_type": "code",
   "execution_count": null,
   "metadata": {},
   "outputs": [],
   "source": [
    "!mkdir work"
   ]
  },
  {
   "cell_type": "code",
   "execution_count": null,
   "metadata": {},
   "outputs": [],
   "source": [
    "%%timeit -n 1 -r 1\n",
    "seed.write_seed('work/Al.cell')\n",
    "!echo \"1 12 6 2.5\\nAl\\n# Epsilon\\n1\\n# Sigma\\n2\\n# Beta\\n1\" >> work/Al.pp\n",
    "!cd work && airss.pl -seed Al -max 20 -pp3 && cd ../"
   ]
  },
  {
   "cell_type": "markdown",
   "metadata": {},
   "source": [
    "Note that the `pp3` program for relxation will run significantly faster than doing so in python"
   ]
  },
  {
   "cell_type": "code",
   "execution_count": null,
   "metadata": {},
   "outputs": [],
   "source": [
    "!cd work/ &&  ca -r -u 0.01 && cd -"
   ]
  }
 ],
 "metadata": {
  "kernelspec": {
   "display_name": "Python [conda env:py3works]",
   "language": "python",
   "name": "conda-env-py3works-py"
  },
  "language_info": {
   "codemirror_mode": {
    "name": "ipython",
    "version": 3
   },
   "file_extension": ".py",
   "mimetype": "text/x-python",
   "name": "python",
   "nbconvert_exporter": "python",
   "pygments_lexer": "ipython3",
   "version": "3.6.8"
  }
 },
 "nbformat": 4,
 "nbformat_minor": 2
}
